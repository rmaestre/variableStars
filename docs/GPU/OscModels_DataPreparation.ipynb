{
 "cells": [
  {
   "cell_type": "markdown",
   "metadata": {},
   "source": [
    "### Theoretical Oscillation models\n",
    "\n",
    "This notebook expose the method to apply a *Depthwise separable convolutional NN* on the oscilation star observation."
   ]
  },
  {
   "cell_type": "code",
   "execution_count": 1,
   "metadata": {},
   "outputs": [
    {
     "name": "stderr",
     "output_type": "stream",
     "text": [
      "\n",
      "Attaching package: 'plotly'\n",
      "\n",
      "The following object is masked from 'package:ggplot2':\n",
      "\n",
      "    last_plot\n",
      "\n",
      "The following object is masked from 'package:stats':\n",
      "\n",
      "    filter\n",
      "\n",
      "The following object is masked from 'package:graphics':\n",
      "\n",
      "    layout\n",
      "\n",
      "Loading required package: spam\n",
      "Loading required package: dotCall64\n",
      "Loading required package: grid\n",
      "Spam version 2.2-0 (2018-06-19) is loaded.\n",
      "Type 'help( Spam)' or 'demo( spam)' for a short introduction \n",
      "and overview of this package.\n",
      "Help for individual functions is also obtained by adding the\n",
      "suffix '.spam' to the function name, e.g. 'help( chol.spam)'.\n",
      "\n",
      "Attaching package: 'spam'\n",
      "\n",
      "The following objects are masked from 'package:base':\n",
      "\n",
      "    backsolve, forwardsolve\n",
      "\n",
      "Loading required package: maps\n",
      "See www.image.ucar.edu/~nychka/Fields for\n",
      " a vignette and other supplements. \n",
      "Loading required package: foreach\n",
      "Loading required package: iterators\n",
      "Loading required package: parallel\n"
     ]
    }
   ],
   "source": [
    "#library(devtools)\n",
    "#install_github(\"rmaestre/variableStars\", ref=\"oscillationCodes\")\n",
    "library(variableStars)\n",
    "library(data.table)\n",
    "library(ggplot2)\n",
    "library(RColorBrewer)\n",
    "library(plotly)\n",
    "library(keras)\n",
    "library(plotly)\n",
    "library(abind)\n",
    "library(fields)\n",
    "library(doParallel)"
   ]
  },
  {
   "cell_type": "markdown",
   "metadata": {},
   "source": [
    "### Global parameters"
   ]
  },
  {
   "cell_type": "code",
   "execution_count": 2,
   "metadata": {},
   "outputs": [],
   "source": [
    "# Number of rows per batch training\n",
    "experiment_number <- 100\n",
    "# Resolution for target frequency [0-100]\n",
    "resolution <- 0.5\n",
    "\n",
    "# Input dimension\n",
    "cuts_breaks <- c(-Inf, seq(0, 101, resolution), Inf)\n",
    "input_dim <- length(cuts_breaks) - 1\n",
    "\n",
    "# Output dimension\n",
    "num_classes <-\n",
    "  length(seq(\n",
    "    from = 0.1,\n",
    "    to = 14 / 0.0864,\n",
    "    by = 1\n",
    "  )) # Buckets of possible classes\n",
    "\n",
    "normalized <- function(x) {\n",
    "        (x - min(x)) / (max(x) - min(x))\n",
    "      }"
   ]
  },
  {
   "cell_type": "markdown",
   "metadata": {},
   "source": [
    "### Auxiliar functions"
   ]
  },
  {
   "cell_type": "code",
   "execution_count": 3,
   "metadata": {},
   "outputs": [],
   "source": [
    "trunc <-\n",
    "  function(x, ..., prec = 1)\n",
    "    base::trunc(x * 10 ^ prec, ...) / 10 ^ prec\n",
    "\n",
    "\n",
    "c_dnu <- function(x) {\n",
    "    length(which(x == 1)) == 1\n",
    "  }\n",
    "  c_dr <- function(x) {\n",
    "    length(which(x == 2)) == 1\n",
    "  }\n",
    "  c_over <- function(x) {\n",
    "    length(which(x == 3)) == 1\n",
    "  }\n",
    "\n",
    "flat <- function(x) {\n",
    "  return(paste0(trunc(c(x), prec=4), collapse = \",\"))\n",
    "}"
   ]
  },
  {
   "cell_type": "markdown",
   "metadata": {},
   "source": [
    "### File processing"
   ]
  },
  {
   "cell_type": "code",
   "execution_count": 4,
   "metadata": {},
   "outputs": [],
   "source": [
    "process_full_file <- function(full_file_path, resolution, cuts_breaks) {\n",
    "library(fields)\n",
    "library(variableStars)\n",
    "# Max n_mode\n",
    "  max_n <- 10\n",
    "  max_l <- 3\n",
    "  \n",
    "  # Read file\n",
    "  data = read.csv(\n",
    "    full_file_path,\n",
    "    header = FALSE,\n",
    "    sep = \"\",\n",
    "    skip = 25,\n",
    "    stringsAsFactors = FALSE,\n",
    "    col.names = c(\"n\", \"l\", \"m\", \"nu\", \"f\", \"no\",\n",
    "                  \"pc\", \"i0\")\n",
    "  )\n",
    "  \n",
    "  # Transform fequencies\n",
    "  data$nu <-  data$nu * 0.0864\n",
    "  \n",
    "  if (nrow(data) != 0) {\n",
    "    # DR estimation\n",
    "    dr <-\n",
    "      as.numeric(strsplit(readLines(\n",
    "        file(full_file_path, \"r\"),\n",
    "        n = 15,\n",
    "        skipNul = T\n",
    "      )[14:14], \"\\\\s+\")[[1]][4])\n",
    "    dr <- dr * 0.0864\n",
    "    \n",
    "    # DNU estimation\n",
    "    dnu <- data[data$m == 0, ]\n",
    "    dnu <-\n",
    "      mean(aggregate(nu ~ l, data = dnu, function(x)\n",
    "        median(diff(x)))$nu)\n",
    "    \n",
    "    \n",
    "    # Generate random frequencies\n",
    "    data$amp <- runif(length(data$nu), 0, 1)\n",
    "    \n",
    "    # Drop n modes over max_n\n",
    "    data <- data[data$n < max_n, ]\n",
    "    # Drop l modes over max_n\n",
    "    data <- data[data$l < max_l, ]\n",
    "    \n",
    "    \n",
    "    chunks <- unlist(strsplit(full_file_path, \"/\"))\n",
    "    filename <- chunks[length(chunks)]\n",
    "    filename_chunks <- unlist(strsplit(filename, \".frq\"))\n",
    "    \n",
    "    \n",
    "    file_output <-\n",
    "      paste0(\"~/Downloads/data/\", filename_chunks, \".log\")\n",
    "    \n",
    "    # Execute experiment\n",
    "    result <- process(\n",
    "      frequency = data$nu,\n",
    "      amplitude = data$amp,\n",
    "      filter = \"uniform\",\n",
    "      gRegimen = 0,\n",
    "      maxDnu = 1,\n",
    "      minDnu = 15,\n",
    "      numFrequencies = 30,\n",
    "      dnuGuessError = -1,\n",
    "      debug = F,\n",
    "      processFirstRangeOnly = 30\n",
    "    )\n",
    "    \n",
    "    # X data. THe maximum value is processed in each bucket\n",
    "    # ----------------------\n",
    "    # Save fourier transform\n",
    "    ftS <-\n",
    "      stats.bin(as.numeric(result$fresAmps[[names(result$fresAmps)[1]]]$fInv),\n",
    "                as.numeric(result$fresAmps[[names(result$fresAmps)[1]]]$b),\n",
    "                breaks = cuts_breaks)$stats\n",
    "    ft_1D <- ftS[8, 1:(length(cuts_breaks) - 1)]\n",
    "    ft_1D[is.na(ft_1D)] <- 0\n",
    "    \n",
    "    \n",
    "    # Save histogram of diffs\n",
    "    diffS <-\n",
    "      stats.bin(\n",
    "        as.numeric(result$diffHistogram$histogram$bins),\n",
    "        as.numeric(result$diffHistogram$histogram$values),\n",
    "        breaks = cuts_breaks\n",
    "      )$stats\n",
    "    diff_2D <- diffS[8, 1:(length(cuts_breaks) - 1)]\n",
    "    diff_2D[is.na(diff_2D)] <- 0\n",
    "    \n",
    "    # Save crosscorrelation\n",
    "    cross <- stats.bin(\n",
    "      as.numeric(result$crossCorrelation$index),\n",
    "      as.numeric(result$crossCorrelation$autocorre),\n",
    "      breaks = cuts_breaks\n",
    "    )$stats\n",
    "    cross_3D <- cross[8, 1:(length(cuts_breaks) - 1)]\n",
    "    cross_3D[is.na(cross_3D)] <- 0\n",
    "    \n",
    "    # Assert all dimensions are equal\n",
    "    stopifnot((length(ft_1D) == length(diff_2D)) ==\n",
    "                ((length(diff_2D) == length(cross_3D)) ==\n",
    "                   (\n",
    "                     length(cross_3D) == length(cuts_breaks) - 1\n",
    "                   )))\n",
    "    \n",
    "    # Write to disk\n",
    "    write(paste(\n",
    "      flat(normalized(ft_1D)),\n",
    "      flat(normalized(diff_2D)),\n",
    "      flat(normalized(cross_3D)),\n",
    "      flat(c(dr, dnu)),\n",
    "      sep = \",\"\n",
    "    )\n",
    "    ,\n",
    "    file = file_output,\n",
    "    append = F)\n",
    "    \n",
    "    \n",
    "  } else {\n",
    "    print(paste0(\"Empty file:\", paste0(full_dir, \"/\", file)))\n",
    "  }\n",
    "}"
   ]
  },
  {
   "cell_type": "markdown",
   "metadata": {},
   "source": [
    "### Parallel processing"
   ]
  },
  {
   "cell_type": "code",
   "execution_count": 5,
   "metadata": {},
   "outputs": [],
   "source": [
    "all_files <- c()\n",
    "base_dir <- \"/home/roberto/Downloads/evolutionTracks/FILOU/\"\n",
    "setwd(base_dir)\n",
    "dirs <- list.dirs(recursive = T)\n",
    "# Loop over files\n",
    "setwd(base_dir)\n",
    "for (dir in dirs[grepl(\"*VO*\", list.dirs(recursive = T))]) {\n",
    "    full_dir <- paste0(base_dir, basename(dir))\n",
    "    setwd(full_dir)\n",
    "    if (!is.na(basename(dir))) {\n",
    "    #print(paste0(\"Processing directory: \", full_dir))\n",
    "    # Change directory work\n",
    "    setwd(full_dir)\n",
    "        for (file in list.files(pattern = \"*frq\")) {\n",
    "            all_files <- c(all_files, paste0(full_dir,\"/\",file))\n",
    "        }\n",
    "    }\n",
    "}"
   ]
  },
  {
   "cell_type": "code",
   "execution_count": 6,
   "metadata": {},
   "outputs": [
    {
     "data": {
      "text/html": [
       "<ol class=list-inline>\n",
       "\t<li>'/home/roberto/Downloads/evolutionTracks/FILOU/VO-m130fe-2a164o0rotjpzt5p5-ad/00000-m130fe-2a164o0rotjpzt5p5-ad.frq'</li>\n",
       "\t<li>'/home/roberto/Downloads/evolutionTracks/FILOU/VO-m130fe-2a164o0rotjpzt5p5-ad/00001-m130fe-2a164o0rotjpzt5p5-ad.frq'</li>\n",
       "\t<li>'/home/roberto/Downloads/evolutionTracks/FILOU/VO-m130fe-2a164o0rotjpzt5p5-ad/00002-m130fe-2a164o0rotjpzt5p5-ad.frq'</li>\n",
       "\t<li>'/home/roberto/Downloads/evolutionTracks/FILOU/VO-m130fe-2a164o0rotjpzt5p5-ad/00003-m130fe-2a164o0rotjpzt5p5-ad.frq'</li>\n",
       "\t<li>'/home/roberto/Downloads/evolutionTracks/FILOU/VO-m130fe-2a164o0rotjpzt5p5-ad/00004-m130fe-2a164o0rotjpzt5p5-ad.frq'</li>\n",
       "\t<li>'/home/roberto/Downloads/evolutionTracks/FILOU/VO-m130fe-2a164o0rotjpzt5p5-ad/00005-m130fe-2a164o0rotjpzt5p5-ad.frq'</li>\n",
       "</ol>\n"
      ],
      "text/latex": [
       "\\begin{enumerate*}\n",
       "\\item '/home/roberto/Downloads/evolutionTracks/FILOU/VO-m130fe-2a164o0rotjpzt5p5-ad/00000-m130fe-2a164o0rotjpzt5p5-ad.frq'\n",
       "\\item '/home/roberto/Downloads/evolutionTracks/FILOU/VO-m130fe-2a164o0rotjpzt5p5-ad/00001-m130fe-2a164o0rotjpzt5p5-ad.frq'\n",
       "\\item '/home/roberto/Downloads/evolutionTracks/FILOU/VO-m130fe-2a164o0rotjpzt5p5-ad/00002-m130fe-2a164o0rotjpzt5p5-ad.frq'\n",
       "\\item '/home/roberto/Downloads/evolutionTracks/FILOU/VO-m130fe-2a164o0rotjpzt5p5-ad/00003-m130fe-2a164o0rotjpzt5p5-ad.frq'\n",
       "\\item '/home/roberto/Downloads/evolutionTracks/FILOU/VO-m130fe-2a164o0rotjpzt5p5-ad/00004-m130fe-2a164o0rotjpzt5p5-ad.frq'\n",
       "\\item '/home/roberto/Downloads/evolutionTracks/FILOU/VO-m130fe-2a164o0rotjpzt5p5-ad/00005-m130fe-2a164o0rotjpzt5p5-ad.frq'\n",
       "\\end{enumerate*}\n"
      ],
      "text/markdown": [
       "1. '/home/roberto/Downloads/evolutionTracks/FILOU/VO-m130fe-2a164o0rotjpzt5p5-ad/00000-m130fe-2a164o0rotjpzt5p5-ad.frq'\n",
       "2. '/home/roberto/Downloads/evolutionTracks/FILOU/VO-m130fe-2a164o0rotjpzt5p5-ad/00001-m130fe-2a164o0rotjpzt5p5-ad.frq'\n",
       "3. '/home/roberto/Downloads/evolutionTracks/FILOU/VO-m130fe-2a164o0rotjpzt5p5-ad/00002-m130fe-2a164o0rotjpzt5p5-ad.frq'\n",
       "4. '/home/roberto/Downloads/evolutionTracks/FILOU/VO-m130fe-2a164o0rotjpzt5p5-ad/00003-m130fe-2a164o0rotjpzt5p5-ad.frq'\n",
       "5. '/home/roberto/Downloads/evolutionTracks/FILOU/VO-m130fe-2a164o0rotjpzt5p5-ad/00004-m130fe-2a164o0rotjpzt5p5-ad.frq'\n",
       "6. '/home/roberto/Downloads/evolutionTracks/FILOU/VO-m130fe-2a164o0rotjpzt5p5-ad/00005-m130fe-2a164o0rotjpzt5p5-ad.frq'\n",
       "\n",
       "\n"
      ],
      "text/plain": [
       "[1] \"/home/roberto/Downloads/evolutionTracks/FILOU/VO-m130fe-2a164o0rotjpzt5p5-ad/00000-m130fe-2a164o0rotjpzt5p5-ad.frq\"\n",
       "[2] \"/home/roberto/Downloads/evolutionTracks/FILOU/VO-m130fe-2a164o0rotjpzt5p5-ad/00001-m130fe-2a164o0rotjpzt5p5-ad.frq\"\n",
       "[3] \"/home/roberto/Downloads/evolutionTracks/FILOU/VO-m130fe-2a164o0rotjpzt5p5-ad/00002-m130fe-2a164o0rotjpzt5p5-ad.frq\"\n",
       "[4] \"/home/roberto/Downloads/evolutionTracks/FILOU/VO-m130fe-2a164o0rotjpzt5p5-ad/00003-m130fe-2a164o0rotjpzt5p5-ad.frq\"\n",
       "[5] \"/home/roberto/Downloads/evolutionTracks/FILOU/VO-m130fe-2a164o0rotjpzt5p5-ad/00004-m130fe-2a164o0rotjpzt5p5-ad.frq\"\n",
       "[6] \"/home/roberto/Downloads/evolutionTracks/FILOU/VO-m130fe-2a164o0rotjpzt5p5-ad/00005-m130fe-2a164o0rotjpzt5p5-ad.frq\""
      ]
     },
     "metadata": {},
     "output_type": "display_data"
    },
    {
     "data": {
      "text/html": [
       "524759"
      ],
      "text/latex": [
       "524759"
      ],
      "text/markdown": [
       "524759"
      ],
      "text/plain": [
       "[1] 524759"
      ]
     },
     "metadata": {},
     "output_type": "display_data"
    }
   ],
   "source": [
    "head(all_files)\n",
    "length(all_files)"
   ]
  },
  {
   "cell_type": "code",
   "execution_count": 7,
   "metadata": {},
   "outputs": [
    {
     "name": "stderr",
     "output_type": "stream",
     "text": [
      "Loading required package: foreach\n",
      "Loading required package: iterators\n",
      "Loading required package: parallel\n"
     ]
    }
   ],
   "source": [
    "cl <- parallel::makeCluster(6)\n",
    "doParallel::registerDoParallel(cl)"
   ]
  },
  {
   "cell_type": "code",
   "execution_count": 8,
   "metadata": {},
   "outputs": [],
   "source": [
    "foreach(i = all_files, .combine = 'c') %dopar% {\n",
    " # Get destination file\n",
    " chunks <- unlist(strsplit(as.character(i), \"/\"))\n",
    " filename <- chunks[length(chunks)]\n",
    " filename_chunks <- unlist(strsplit(filename, \".frq\"))\n",
    " if(!file.exists(paste0(\"~/Downloads/data/\", filename_chunks, \".log\"))){\n",
    "  process_full_file(as.character(i), resolution, cuts_breaks)\n",
    " }\n",
    "}"
   ]
  },
  {
   "cell_type": "code",
   "execution_count": 9,
   "metadata": {},
   "outputs": [],
   "source": [
    "parallel::stopCluster(cl)"
   ]
  }
 ],
 "metadata": {
  "kernelspec": {
   "display_name": "R",
   "language": "R",
   "name": "ir"
  },
  "language_info": {
   "codemirror_mode": "r",
   "file_extension": ".r",
   "mimetype": "text/x-r-source",
   "name": "R",
   "pygments_lexer": "r",
   "version": "3.5.1"
  }
 },
 "nbformat": 4,
 "nbformat_minor": 2
}
