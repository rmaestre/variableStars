{
 "cells": [
  {
   "cell_type": "markdown",
   "metadata": {},
   "source": [
    "### Theoretical Oscillation models\n",
    "\n",
    "This notebook expose the method to apply a *Depthwise separable convolutional NN* on the oscilation star observation."
   ]
  },
  {
   "cell_type": "code",
   "execution_count": 1,
   "metadata": {},
   "outputs": [
    {
     "name": "stderr",
     "output_type": "stream",
     "text": [
      "\n",
      "Attaching package: 'plotly'\n",
      "\n",
      "The following object is masked from 'package:ggplot2':\n",
      "\n",
      "    last_plot\n",
      "\n",
      "The following object is masked from 'package:stats':\n",
      "\n",
      "    filter\n",
      "\n",
      "The following object is masked from 'package:graphics':\n",
      "\n",
      "    layout\n",
      "\n",
      "Loading required package: spam\n",
      "Loading required package: dotCall64\n",
      "Loading required package: grid\n",
      "Spam version 2.2-0 (2018-06-19) is loaded.\n",
      "Type 'help( Spam)' or 'demo( spam)' for a short introduction \n",
      "and overview of this package.\n",
      "Help for individual functions is also obtained by adding the\n",
      "suffix '.spam' to the function name, e.g. 'help( chol.spam)'.\n",
      "\n",
      "Attaching package: 'spam'\n",
      "\n",
      "The following objects are masked from 'package:base':\n",
      "\n",
      "    backsolve, forwardsolve\n",
      "\n",
      "Loading required package: maps\n",
      "See www.image.ucar.edu/~nychka/Fields for\n",
      " a vignette and other supplements. \n"
     ]
    }
   ],
   "source": [
    "library(variableStars)\n",
    "library(data.table)\n",
    "library(ggplot2)\n",
    "library(RColorBrewer)\n",
    "library(plotly)\n",
    "library(keras)\n",
    "library(plotly)\n",
    "library(abind)\n",
    "library(fields)"
   ]
  },
  {
   "cell_type": "markdown",
   "metadata": {},
   "source": [
    "### Global parameters"
   ]
  },
  {
   "cell_type": "code",
   "execution_count": 2,
   "metadata": {},
   "outputs": [],
   "source": [
    "# Number of rows per batch training\n",
    "experiment_number <- 100\n",
    "# Resolution for target frequency [0-100]\n",
    "resolution <- 0.5\n",
    "\n",
    "# Input dimension\n",
    "cuts_breaks <- c(-Inf, seq(0, 101, resolution), Inf)\n",
    "input_dim <- length(cuts_breaks) - 1\n",
    "\n",
    "# Output dimension\n",
    "num_classes <-\n",
    "  length(seq(\n",
    "    from = 0.1,\n",
    "    to = 14 / 0.0864,\n",
    "    by = 1\n",
    "  )) # Buckets of possible classes\n",
    "\n",
    "normalized <- function(x) {\n",
    "        (x - min(x)) / (max(x) - min(x))\n",
    "      }"
   ]
  },
  {
   "cell_type": "markdown",
   "metadata": {},
   "source": [
    "### Auxiliar functions"
   ]
  },
  {
   "cell_type": "code",
   "execution_count": 3,
   "metadata": {},
   "outputs": [],
   "source": [
    "trunc <-\n",
    "  function(x, ..., prec = 1)\n",
    "    base::trunc(x * 10 ^ prec, ...) / 10 ^ prec\n",
    "\n",
    "\n",
    "c_dnu <- function(x) {\n",
    "    length(which(x == 1)) == 1\n",
    "  }\n",
    "  c_dr <- function(x) {\n",
    "    length(which(x == 2)) == 1\n",
    "  }\n",
    "  c_over <- function(x) {\n",
    "    length(which(x == 3)) == 1\n",
    "  }\n",
    "\n",
    "flat <- function(x) {\n",
    "  return(paste0(trunc(c(x), prec=4), collapse = \",\"))\n",
    "}\n",
    "\n",
    "top_4_categorical_accuracy <-\n",
    "  custom_metric(\"acc_at_4\", function(y_true, y_pred) {\n",
    "    metric_top_k_categorical_accuracy(y_true, y_pred, 4)\n",
    "  })\n",
    "top_2_categorical_accuracy <-\n",
    "  custom_metric(\"acc_at_2\", function(y_true, y_pred) {\n",
    "    metric_top_k_categorical_accuracy(y_true, y_pred, 2)\n",
    "  })"
   ]
  },
  {
   "cell_type": "markdown",
   "metadata": {},
   "source": [
    "### File processing"
   ]
  },
  {
   "cell_type": "code",
   "execution_count": 4,
   "metadata": {},
   "outputs": [],
   "source": [
    "file_processing <- function(df, dr, dnu, file_output) {\n",
    "  # Execute experiment\n",
    "  result <- process(\n",
    "    frequency = df$nu,\n",
    "    amplitude = df$amp,\n",
    "    filter = \"uniform\",\n",
    "    gRegimen = 0,\n",
    "    maxDnu = 1,\n",
    "    minDnu = 15,\n",
    "    numFrequencies = 30,\n",
    "    dnuGuessError = -1,\n",
    "    debug = F\n",
    "  )\n",
    "  \n",
    "  # X data. THe maximum value is processed in each bucket\n",
    "  # ----------------------\n",
    "  # Save fourier transform\n",
    "  ftS <-\n",
    "    stats.bin(as.numeric(result$fresAmps[[names(result$fresAmps)[1]]]$fInv),\n",
    "              as.numeric(result$fresAmps[[names(result$fresAmps)[1]]]$b),\n",
    "              breaks = cuts_breaks)$stats\n",
    "  ft_1D <- ftS[8, 1:(length(cuts_breaks) - 1)]\n",
    "  ft_1D[is.na(ft_1D)] <- 0\n",
    "  \n",
    "  \n",
    "  # Save histogram of diffs\n",
    "  diffS <-\n",
    "    stats.bin(\n",
    "      as.numeric(result$diffHistogram$histogram$bins),\n",
    "      as.numeric(result$diffHistogram$histogram$values),\n",
    "      breaks = cuts_breaks\n",
    "    )$stats\n",
    "  diff_2D <- diffS[8, 1:(length(cuts_breaks) - 1)]\n",
    "  diff_2D[is.na(diff_2D)] <- 0\n",
    "  \n",
    "  # Save crosscorrelation\n",
    "  cross <- stats.bin(\n",
    "    as.numeric(result$crossCorrelation$index),\n",
    "    as.numeric(result$crossCorrelation$autocorre),\n",
    "    breaks = cuts_breaks\n",
    "  )$stats\n",
    "  cross_3D <- cross[8, 1:(length(cuts_breaks) - 1)]\n",
    "  cross_3D[is.na(cross_3D)] <- 0\n",
    "  \n",
    "  # Assert all dimensions are equal\n",
    "  stopifnot((length(ft_1D) == length(diff_2D)) ==\n",
    "              ((length(diff_2D) == length(cross_3D)) ==\n",
    "                 (\n",
    "                   length(cross_3D) == length(cuts_breaks) - 1\n",
    "                 )))\n",
    "  \n",
    "  \n",
    "  write(paste(\n",
    "    flat(normalized(ft_1D)),\n",
    "    flat(normalized(diff_2D)),\n",
    "    flat(normalized(cross_3D)),\n",
    "    flat(c(dr, dnu)),\n",
    "    sep = \",\"\n",
    "  )\n",
    "  ,\n",
    "  file = file_output,\n",
    "  append = T)\n",
    "  \n",
    "}"
   ]
  },
  {
   "cell_type": "markdown",
   "metadata": {},
   "source": [
    "### Data processing"
   ]
  },
  {
   "cell_type": "code",
   "execution_count": null,
   "metadata": {},
   "outputs": [],
   "source": [
    "# Start log file\n",
    "number_lines_to_split_file <- 10000\n",
    "file_id <- 0\n",
    "\n",
    "# Max n_mode\n",
    "max_n <- 3\n",
    "base_dir <- \"/home/roberto/Downloads/evolutionTracks/FILOU/\"\n",
    "\n",
    "# Loop over files\n",
    "setwd(base_dir)\n",
    "dirs <- list.dirs(recursive = T)\n",
    "count <- 0\n",
    "for (dir in dirs[grepl(\"*VO*\", list.dirs(recursive = T))]) {\n",
    "  # Get full file\n",
    "  full_dir <- paste0(base_dir, basename(dir))\n",
    "  if (!is.na(basename(dir))) {\n",
    "    #print(paste0(\"Processing directory: \", full_dir))\n",
    "    # Change directory work\n",
    "    setwd(full_dir)\n",
    "    for (file in list.files(pattern = \"*frq\")) {\n",
    "      # Read file\n",
    "      data = read.csv(\n",
    "        paste0(full_dir, \"/\", file),\n",
    "        header = FALSE,\n",
    "        sep = \"\",\n",
    "        skip = 25,\n",
    "        stringsAsFactors = FALSE,\n",
    "        col.names = c(\"n\", \"l\", \"m\", \"nu\", \"f\", \"no\",\n",
    "                      \"pc\", \"i0\")\n",
    "      )\n",
    "      # DR estimation\n",
    "      dr <-\n",
    "        as.numeric(strsplit(readLines(\n",
    "          file(paste0(full_dir, \"/\", file), \"r\"), n = 15, skipNul = T\n",
    "        )[14:14], \"\\\\s+\")[[1]][3])\n",
    "      \n",
    "      # DNU estimation\n",
    "      dnu <- data[data$l == 0 & data$n >= 2 & data$n <= 8,]$nu\n",
    "      dnu\n",
    "      if (length(dnu) > 1) {\n",
    "        dnu <- median(diff(dnu))\n",
    "      }\n",
    "      # Generate random frequencies\n",
    "      data$amp <- runif(length(data$nu), 0, 1)\n",
    "      \n",
    "      # Drop n modes under   max_n\n",
    "      data <- data[data$n < max_n,]\n",
    "      # Keep only l modes 2,3\n",
    "      data <- data[!data$l %in% c(2, 3),]\n",
    "      \n",
    "      # Transform fequencies\n",
    "      data$nu <-  data$nu * 0.086\n",
    "      \n",
    "      # Save data file and create a new one\n",
    "      if (count %% number_lines_to_split_file == 0 || count == 0) {\n",
    "        # file name\n",
    "        file_output <- paste0(\"~/Downloads/data\", file_id, \".log\")\n",
    "        # Create file\n",
    "        write(paste0(),\n",
    "              file = file_output,\n",
    "              append = F)\n",
    "        # Increment file ide\n",
    "        file_id <- file_id + 1\n",
    "        \n",
    "      }\n",
    "      file_processing(data, dr, dnu, file_output)\n",
    "      count <- count + 1\n",
    "    }\n",
    "  }\n",
    "}"
   ]
  },
  {
   "cell_type": "code",
   "execution_count": 21,
   "metadata": {},
   "outputs": [
    {
     "data": {
      "text/html": [
       "<table>\n",
       "<thead><tr><th></th><th scope=col>n</th><th scope=col>l</th><th scope=col>m</th><th scope=col>nu</th><th scope=col>f</th><th scope=col>no</th><th scope=col>pc</th><th scope=col>i0</th><th scope=col>amp</th></tr></thead>\n",
       "<tbody>\n",
       "\t<tr><th scope=row>2</th><td>2        </td><td>0        </td><td>0        </td><td>22.46439 </td><td>0        </td><td>2        </td><td>0        </td><td>9.417e+51</td><td>0.343537 </td></tr>\n",
       "</tbody>\n",
       "</table>\n"
      ],
      "text/latex": [
       "\\begin{tabular}{r|lllllllll}\n",
       "  & n & l & m & nu & f & no & pc & i0 & amp\\\\\n",
       "\\hline\n",
       "\t2 & 2         & 0         & 0         & 22.46439  & 0         & 2         & 0         & 9.417e+51 & 0.343537 \\\\\n",
       "\\end{tabular}\n"
      ],
      "text/markdown": [
       "\n",
       "| <!--/--> | n | l | m | nu | f | no | pc | i0 | amp | \n",
       "|---|\n",
       "| 2 | 2         | 0         | 0         | 22.46439  | 0         | 2         | 0         | 9.417e+51 | 0.343537  | \n",
       "\n",
       "\n"
      ],
      "text/plain": [
       "  n l m nu       f no pc i0        amp     \n",
       "2 2 0 0 22.46439 0 2  0  9.417e+51 0.343537"
      ]
     },
     "metadata": {},
     "output_type": "display_data"
    }
   ],
   "source": [
    "data[data$l == 0 & data$n >= 2 & data$n <= 8,]"
   ]
  }
 ],
 "metadata": {
  "kernelspec": {
   "display_name": "R",
   "language": "R",
   "name": "ir"
  },
  "language_info": {
   "codemirror_mode": "r",
   "file_extension": ".r",
   "mimetype": "text/x-r-source",
   "name": "R",
   "pygments_lexer": "r",
   "version": "3.5.1"
  }
 },
 "nbformat": 4,
 "nbformat_minor": 2
}
