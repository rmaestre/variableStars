{
 "cells": [
  {
   "cell_type": "code",
   "execution_count": 48,
   "metadata": {},
   "outputs": [],
   "source": [
    "library(variableStars)\n",
    "library(data.table)\n",
    "library(ggplot2)\n",
    "library(RColorBrewer)\n",
    "library(plotly)\n",
    "library(keras)\n",
    "library(plotly)\n",
    "library(abind)\n",
    "library(fields)"
   ]
  },
  {
   "cell_type": "markdown",
   "metadata": {},
   "source": [
    "### Read processed files and create big matrix with all rows"
   ]
  },
  {
   "cell_type": "code",
   "execution_count": 56,
   "metadata": {},
   "outputs": [
    {
     "data": {
      "text/html": [
       "<ol class=list-inline>\n",
       "\t<li>16952</li>\n",
       "\t<li>614</li>\n",
       "</ol>\n"
      ],
      "text/latex": [
       "\\begin{enumerate*}\n",
       "\\item 16952\n",
       "\\item 614\n",
       "\\end{enumerate*}\n"
      ],
      "text/markdown": [
       "1. 16952\n",
       "2. 614\n",
       "\n",
       "\n"
      ],
      "text/plain": [
       "[1] 16952   614"
      ]
     },
     "metadata": {},
     "output_type": "display_data"
    },
    {
     "data": {
      "text/html": [
       "<ol class=list-inline>\n",
       "\t<li>16952</li>\n",
       "\t<li>614</li>\n",
       "</ol>\n"
      ],
      "text/latex": [
       "\\begin{enumerate*}\n",
       "\\item 16952\n",
       "\\item 614\n",
       "\\end{enumerate*}\n"
      ],
      "text/markdown": [
       "1. 16952\n",
       "2. 614\n",
       "\n",
       "\n"
      ],
      "text/plain": [
       "[1] 16952   614"
      ]
     },
     "metadata": {},
     "output_type": "display_data"
    }
   ],
   "source": [
    "setwd(\"~/Downloads/data/\")\n",
    "system(\"cat *.log > ALL.log\")\n",
    "df_all <- data.frame(fread(\"ALL.log\", sep=\",\", header = F))\n",
    "dim(df_all)\n",
    "df_all <- df_all[complete.cases(df_all),]\n",
    "dim(df_all)"
   ]
  },
  {
   "cell_type": "markdown",
   "metadata": {},
   "source": [
    "### Experiment parameters"
   ]
  },
  {
   "cell_type": "code",
   "execution_count": 57,
   "metadata": {},
   "outputs": [],
   "source": [
    "# Resolution for target frequency [0-100]\n",
    "input_resolution <- 0.5\n",
    "output_resolution <- 1.0\n",
    "\n",
    "# Input dimension\n",
    "cuts_breaks <- c(-Inf, seq(0, 101, input_resolution), Inf)\n",
    "input_dim <- length(cuts_breaks) - 1\n",
    "\n",
    "# Output dimension\n",
    "num_classes <-\n",
    "  length(seq(\n",
    "    from = 0.1,\n",
    "    to = 14 / 0.0864,\n",
    "    by = output_resolution\n",
    "  )) # Buckets of possible classes"
   ]
  },
  {
   "cell_type": "markdown",
   "metadata": {},
   "source": [
    "### Matrix creation from data"
   ]
  },
  {
   "cell_type": "code",
   "execution_count": 58,
   "metadata": {},
   "outputs": [
    {
     "data": {
      "text/html": [
       "<ol class=list-inline>\n",
       "\t<li>16952</li>\n",
       "\t<li>204</li>\n",
       "\t<li>3</li>\n",
       "</ol>\n"
      ],
      "text/latex": [
       "\\begin{enumerate*}\n",
       "\\item 16952\n",
       "\\item 204\n",
       "\\item 3\n",
       "\\end{enumerate*}\n"
      ],
      "text/markdown": [
       "1. 16952\n",
       "2. 204\n",
       "3. 3\n",
       "\n",
       "\n"
      ],
      "text/plain": [
       "[1] 16952   204     3"
      ]
     },
     "metadata": {},
     "output_type": "display_data"
    },
    {
     "data": {
      "text/html": [
       "<ol class=list-inline>\n",
       "\t<li>16952</li>\n",
       "\t<li>162</li>\n",
       "</ol>\n"
      ],
      "text/latex": [
       "\\begin{enumerate*}\n",
       "\\item 16952\n",
       "\\item 162\n",
       "\\end{enumerate*}\n"
      ],
      "text/markdown": [
       "1. 16952\n",
       "2. 162\n",
       "\n",
       "\n"
      ],
      "text/plain": [
       "[1] 16952   162"
      ]
     },
     "metadata": {},
     "output_type": "display_data"
    }
   ],
   "source": [
    "rows <- dim(df_all)[1]\n",
    "cols <- (dim(df_all)[2] - 2) / 3\n",
    "dimensions <- 3 # Number of channels\n",
    "X <- array(0, c(rows, cols, dimensions))\n",
    "# Y train is a 1D matrix with rows and targets\n",
    "Y <- matrix(0, nrow = rows, ncol = num_classes)\n",
    "\n",
    "\n",
    "ind_data <- seq(from=1,to=rows)\n",
    "\n",
    "# Reshaoe dataframe to matrix slices\n",
    "X[ind_data, , 1] <- as.matrix(df_all[ind_data, 1:204])\n",
    "X[ind_data, , 2] <- as.matrix(df_all[ind_data, 204:((204 * 2) - 1)])\n",
    "X[ind_data, , 3] <- as.matrix(df_all[ind_data, (204 * 2):((204 * 3) - 1)])\n",
    "Y <- to_categorical(df_all[ind_data, 614:614], num_classes)\n",
    "\n",
    "dim(X)\n",
    "dim(Y)"
   ]
  },
  {
   "cell_type": "code",
   "execution_count": 59,
   "metadata": {},
   "outputs": [
    {
     "data": {
      "text/html": [
       "'Removing 16952 rows with NO target'"
      ],
      "text/latex": [
       "'Removing 16952 rows with NO target'"
      ],
      "text/markdown": [
       "'Removing 16952 rows with NO target'"
      ],
      "text/plain": [
       "[1] \"Removing 16952 rows with NO target\""
      ]
     },
     "metadata": {},
     "output_type": "display_data"
    },
    {
     "data": {
      "text/html": [
       "<ol class=list-inline>\n",
       "\t<li>16952</li>\n",
       "\t<li>204</li>\n",
       "\t<li>3</li>\n",
       "</ol>\n"
      ],
      "text/latex": [
       "\\begin{enumerate*}\n",
       "\\item 16952\n",
       "\\item 204\n",
       "\\item 3\n",
       "\\end{enumerate*}\n"
      ],
      "text/markdown": [
       "1. 16952\n",
       "2. 204\n",
       "3. 3\n",
       "\n",
       "\n"
      ],
      "text/plain": [
       "[1] 16952   204     3"
      ]
     },
     "metadata": {},
     "output_type": "display_data"
    },
    {
     "data": {
      "text/html": [
       "<ol class=list-inline>\n",
       "\t<li>16952</li>\n",
       "\t<li>162</li>\n",
       "</ol>\n"
      ],
      "text/latex": [
       "\\begin{enumerate*}\n",
       "\\item 16952\n",
       "\\item 162\n",
       "\\end{enumerate*}\n"
      ],
      "text/markdown": [
       "1. 16952\n",
       "2. 162\n",
       "\n",
       "\n"
      ],
      "text/plain": [
       "[1] 16952   162"
      ]
     },
     "metadata": {},
     "output_type": "display_data"
    }
   ],
   "source": [
    "ind_remove_no_target <- which(apply(Y,1,sum)==1)\n",
    "paste0(\"Removing \",length(ind_remove_no_target==F),\" rows with NO target\")\n",
    "\n",
    "X <- X[ind_remove_no_target,,]\n",
    "Y <- Y[ind_remove_no_target,]\n",
    "\n",
    "dim(X)\n",
    "dim(Y)"
   ]
  },
  {
   "cell_type": "code",
   "execution_count": 60,
   "metadata": {},
   "outputs": [],
   "source": [
    "stopifnot(which(is.na(Y))==FALSE)\n",
    "stopifnot(which(is.na(X))==FALSE)"
   ]
  },
  {
   "cell_type": "code",
   "execution_count": 61,
   "metadata": {},
   "outputs": [
    {
     "data": {
      "text/html": [
       "<ol class=list-inline>\n",
       "\t<li>13561</li>\n",
       "\t<li>204</li>\n",
       "\t<li>3</li>\n",
       "</ol>\n"
      ],
      "text/latex": [
       "\\begin{enumerate*}\n",
       "\\item 13561\n",
       "\\item 204\n",
       "\\item 3\n",
       "\\end{enumerate*}\n"
      ],
      "text/markdown": [
       "1. 13561\n",
       "2. 204\n",
       "3. 3\n",
       "\n",
       "\n"
      ],
      "text/plain": [
       "[1] 13561   204     3"
      ]
     },
     "metadata": {},
     "output_type": "display_data"
    },
    {
     "data": {
      "text/html": [
       "<ol class=list-inline>\n",
       "\t<li>13561</li>\n",
       "\t<li>162</li>\n",
       "</ol>\n"
      ],
      "text/latex": [
       "\\begin{enumerate*}\n",
       "\\item 13561\n",
       "\\item 162\n",
       "\\end{enumerate*}\n"
      ],
      "text/markdown": [
       "1. 13561\n",
       "2. 162\n",
       "\n",
       "\n"
      ],
      "text/plain": [
       "[1] 13561   162"
      ]
     },
     "metadata": {},
     "output_type": "display_data"
    },
    {
     "data": {
      "text/html": [
       "<ol class=list-inline>\n",
       "\t<li>3391</li>\n",
       "\t<li>204</li>\n",
       "\t<li>3</li>\n",
       "</ol>\n"
      ],
      "text/latex": [
       "\\begin{enumerate*}\n",
       "\\item 3391\n",
       "\\item 204\n",
       "\\item 3\n",
       "\\end{enumerate*}\n"
      ],
      "text/markdown": [
       "1. 3391\n",
       "2. 204\n",
       "3. 3\n",
       "\n",
       "\n"
      ],
      "text/plain": [
       "[1] 3391  204    3"
      ]
     },
     "metadata": {},
     "output_type": "display_data"
    },
    {
     "data": {
      "text/html": [
       "<ol class=list-inline>\n",
       "\t<li>3391</li>\n",
       "\t<li>162</li>\n",
       "</ol>\n"
      ],
      "text/latex": [
       "\\begin{enumerate*}\n",
       "\\item 3391\n",
       "\\item 162\n",
       "\\end{enumerate*}\n"
      ],
      "text/markdown": [
       "1. 3391\n",
       "2. 162\n",
       "\n",
       "\n"
      ],
      "text/plain": [
       "[1] 3391  162"
      ]
     },
     "metadata": {},
     "output_type": "display_data"
    }
   ],
   "source": [
    "# Split train/test\n",
    "smp_size <- floor(0.75 * nrow(X))\n",
    "set.seed(123)\n",
    "ind <- sample(seq_len(nrow(X)), size = smp_size)\n",
    "\n",
    "# Prepare partition\n",
    "x_train <- X[ind, , ]\n",
    "x_test  <- X[-ind, , ]\n",
    "y_train <- Y[ind, ]\n",
    "y_test  <- Y[-ind, ]\n",
    "# Check dims\n",
    "dim(x_train)\n",
    "dim(y_train)\n",
    "dim(x_test)\n",
    "dim(y_test)"
   ]
  },
  {
   "cell_type": "markdown",
   "metadata": {},
   "source": [
    "### EDA of data"
   ]
  },
  {
   "cell_type": "code",
   "execution_count": 62,
   "metadata": {},
   "outputs": [
    {
     "ename": "ERROR",
     "evalue": "Error in eval(expr, envir, enclos): \n",
     "output_type": "error",
     "traceback": [
      "Error in eval(expr, envir, enclos): \nTraceback:\n",
      "1. stop()"
     ]
    },
    {
     "data": {
      "image/png": "[encoded data removed]",
      "text/plain": [
       "Plot with title \"Histogram of apply(Y, 1, function(x) which(x == 1))\""
      ]
     },
     "metadata": {},
     "output_type": "display_data"
    }
   ],
   "source": [
    "hist(apply(Y,1,function(x) which(x==1)))\n",
    "stop()"
   ]
  },
  {
   "cell_type": "markdown",
   "metadata": {},
   "source": [
    "### NN train"
   ]
  },
  {
   "cell_type": "code",
   "execution_count": null,
   "metadata": {},
   "outputs": [],
   "source": [
    "top_12_categorical_accuracy <-\n",
    "  custom_metric(\"rec_at_12\", function(y_true, y_pred) {\n",
    "    metric_top_k_categorical_accuracy(y_true, y_pred, 12)\n",
    "  })\n",
    "top_6_categorical_accuracy <-\n",
    "  custom_metric(\"recat_6\", function(y_true, y_pred) {\n",
    "    metric_top_k_categorical_accuracy(y_true, y_pred, 6)\n",
    "  })\n",
    "top_4_categorical_accuracy <-\n",
    "  custom_metric(\"rec_at_4\", function(y_true, y_pred) {\n",
    "    metric_top_k_categorical_accuracy(y_true, y_pred, 4)\n",
    "  })\n",
    "top_2_categorical_accuracy <-\n",
    "  custom_metric(\"rec_at_2\", function(y_true, y_pred) {\n",
    "    metric_top_k_categorical_accuracy(y_true, y_pred, 2)\n",
    "  })\n",
    "\n",
    "\n",
    "# Create a 1d convolutional NN\n",
    "model <- keras_model_sequential() %>%\n",
    "  layer_separable_conv_1d(\n",
    "    kernel_size = 5,\n",
    "    filters = 8,\n",
    "    depth_multiplier = 15,\n",
    "    input_shape = c(204, 3)\n",
    "  ) %>%\n",
    "  layer_max_pooling_1d(pool_size = 2) %>%\n",
    "  layer_dropout(0.2) %>%\n",
    "  layer_batch_normalization() %>%\n",
    "\n",
    "layer_separable_conv_1d(\n",
    "    kernel_size = 5,\n",
    "    filters = 8,\n",
    "    depth_multiplier = 15,\n",
    "    input_shape = c(204, 3)\n",
    "  ) %>%\n",
    "  layer_max_pooling_1d(pool_size = 2) %>%\n",
    "  layer_dropout(0.2) %>%\n",
    "  layer_batch_normalization() %>%\n",
    "\n",
    "  \n",
    "  layer_flatten() %>%\n",
    "  layer_dense(units = num_classes, activation = 'softmax')\n",
    "\n",
    "\n",
    "\n",
    "# Configure a model for categorical classification.\n",
    "model %>% compile(\n",
    "  loss = \"categorical_crossentropy\",\n",
    "  optimizer = optimizer_adadelta(lr = 0.01),\n",
    "  metrics = c(\n",
    "          \"accuracy\",\n",
    "          top_2_categorical_accuracy,\n",
    "          top_4_categorical_accuracy,\n",
    "          top_6_categorical_accuracy,\n",
    "          top_12_categorical_accuracy\n",
    "        )\n",
    ")\n",
    "summary(model) # Plot summary\n",
    "\n",
    "# Fit model\n",
    "  history <- model %>% fit(\n",
    "    x_train,\n",
    "    y_train,\n",
    "    epochs = 8000,\n",
    "    batch_size =  250,\n",
    "    validation_split = 0.2,\n",
    "    shuffle = T,\n",
    "    verbose = 2\n",
    "  )"
   ]
  },
  {
   "cell_type": "code",
   "execution_count": null,
   "metadata": {},
   "outputs": [],
   "source": [
    "#save_model_hdf5(model, paste0(\"~/Downloads/model_dnu\",\".h5\"))\n",
    "evaluate(model, x_test, y_test)"
   ]
  },
  {
   "cell_type": "code",
   "execution_count": null,
   "metadata": {},
   "outputs": [],
   "source": [
    "plot(history) +\n",
    "  theme_bw()"
   ]
  },
  {
   "cell_type": "markdown",
   "metadata": {},
   "source": [
    "### Confusion matrix"
   ]
  },
  {
   "cell_type": "code",
   "execution_count": null,
   "metadata": {},
   "outputs": [],
   "source": [
    "Y_test_hat <- predict_classes(model, x_test)\n",
    "# Calculate confusion matrix\n",
    "cm <- table(apply(y_test,1,which.max), Y_test_hat)\n",
    "\n",
    "# Plot matrix\n",
    "dtCM <- as.data.frame(cm)\n",
    "colnames(dtCM) <- c(\"c1\",\"c2\",\"freq\")\n",
    "ggplot(data=dtCM, aes(c1, c2, fill = freq)) +\n",
    "  geom_raster() +\n",
    "  scale_fill_gradientn(colours=c(\"#0000FFFF\",\"#FFFFFFFF\",\"#FF0000FF\"))"
   ]
  },
  {
   "cell_type": "code",
   "execution_count": null,
   "metadata": {},
   "outputs": [],
   "source": []
  },
  {
   "cell_type": "code",
   "execution_count": null,
   "metadata": {},
   "outputs": [],
   "source": [
    "select_test <- 1000\n",
    "\n",
    "y_hats <- predict(model, x_test)\n",
    "\n",
    "plot(\n",
    "  y_hats[select_test,],\n",
    "  lty = 1,\n",
    "  ylim = c(0, 1),\n",
    "  xlim = c(0, 120),\n",
    "  col = \"black\",\n",
    "  xlab = \"Frequency\",\n",
    "  ylab = \"Prob / Value\"\n",
    ")\n",
    "\n",
    "lines(x_test[select_test, , 1], lty = 1, col = \"blue\")\n",
    "lines(x_test[select_test, , 2], lty = 2, col = \"grey\")\n",
    "lines(x_test[select_test, , 3], lty = 3, col = \"orange\")\n",
    "\n",
    "\n",
    "abline(\n",
    "  v = which(y_test[select_test, ]==1)[1],\n",
    "  col = \"red\",\n",
    "  lwd = 3,\n",
    "  lty = 2\n",
    ")\n",
    "\n",
    "abline(\n",
    "  v = which(y_test[select_test, ]==1)[2],\n",
    "  col = \"red\",\n",
    "  lwd = 3,\n",
    "  lty = 2\n",
    ")\n",
    "\n",
    "legend(\n",
    "  \"topright\",\n",
    "  c(\"FT\", \"Diffs\", \"Autocorrelation\"),\n",
    "  lty = c(1, 2, 3, 4),\n",
    "  col = c(\"blue\", \"grey\", \"orange\")\n",
    ")"
   ]
  }
 ],
 "metadata": {
  "kernelspec": {
   "display_name": "R",
   "language": "R",
   "name": "ir"
  },
  "language_info": {
   "codemirror_mode": "r",
   "file_extension": ".r",
   "mimetype": "text/x-r-source",
   "name": "R",
   "pygments_lexer": "r",
   "version": "3.5.1"
  }
 },
 "nbformat": 4,
 "nbformat_minor": 2
}
