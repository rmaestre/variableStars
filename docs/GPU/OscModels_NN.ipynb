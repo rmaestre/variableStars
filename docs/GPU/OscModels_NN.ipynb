{
 "cells": [
  {
   "cell_type": "code",
   "execution_count": 96,
   "metadata": {},
   "outputs": [],
   "source": [
    "library(variableStars)\n",
    "library(data.table)\n",
    "library(ggplot2)\n",
    "library(RColorBrewer)\n",
    "library(plotly)\n",
    "library(keras)\n",
    "library(plotly)\n",
    "library(abind)\n",
    "library(fields)"
   ]
  },
  {
   "cell_type": "markdown",
   "metadata": {},
   "source": [
    "### Read processed files and create matrix"
   ]
  },
  {
   "cell_type": "code",
   "execution_count": 117,
   "metadata": {},
   "outputs": [
    {
     "name": "stdout",
     "output_type": "stream",
     "text": [
      "[1] \"data0.log\"\n",
      "[1] \"data1.log\"\n",
      "[1] \"data2.log\"\n",
      "[1] \"data3.log\"\n"
     ]
    }
   ],
   "source": [
    "setwd(\"~/Downloads/\")\n",
    "df_all <- NA\n",
    "for (file in list.files(pattern = \"*log\")) {\n",
    "    print(file)\n",
    "    if (is.null(df_all)) {\n",
    "        df_all <- data.frame(read.csv(file, sep=\",\", header = F))\n",
    "    } else {\n",
    "        df_all <- rbind(df_all, data.frame(read.csv(file, sep=\",\", header = F)))\n",
    "    }\n",
    "}"
   ]
  },
  {
   "cell_type": "code",
   "execution_count": 118,
   "metadata": {},
   "outputs": [
    {
     "data": {
      "text/html": [
       "<ol class=list-inline>\n",
       "\t<li>23392</li>\n",
       "\t<li>614</li>\n",
       "</ol>\n"
      ],
      "text/latex": [
       "\\begin{enumerate*}\n",
       "\\item 23392\n",
       "\\item 614\n",
       "\\end{enumerate*}\n"
      ],
      "text/markdown": [
       "1. 23392\n",
       "2. 614\n",
       "\n",
       "\n"
      ],
      "text/plain": [
       "[1] 23392   614"
      ]
     },
     "metadata": {},
     "output_type": "display_data"
    },
    {
     "data": {
      "text/html": [
       "204"
      ],
      "text/latex": [
       "204"
      ],
      "text/markdown": [
       "204"
      ],
      "text/plain": [
       "[1] 204"
      ]
     },
     "metadata": {},
     "output_type": "display_data"
    }
   ],
   "source": [
    "dim(df_all)\n",
    "(dim(df_all)[2]-2)/3"
   ]
  },
  {
   "cell_type": "code",
   "execution_count": 119,
   "metadata": {},
   "outputs": [],
   "source": [
    "fts <- t(d[,1:204])\n",
    "hdiffs <- t(d[,204:(204*2)])\n",
    "crosss <- t(d[,(204*2):(204*3)])\n",
    "\n",
    "drs <- t(d[,613:613])\n",
    "dnus <- t(d[,614:614])"
   ]
  },
  {
   "cell_type": "code",
   "execution_count": 120,
   "metadata": {},
   "outputs": [
    {
     "data": {
      "image/png": "[encoded data removed]",
      "text/plain": [
       "Plot with title \"Histogram of dnus\""
      ]
     },
     "metadata": {},
     "output_type": "display_data"
    }
   ],
   "source": [
    "hist(dnus)"
   ]
  }
 ],
 "metadata": {
  "kernelspec": {
   "display_name": "R",
   "language": "R",
   "name": "ir"
  },
  "language_info": {
   "codemirror_mode": "r",
   "file_extension": ".r",
   "mimetype": "text/x-r-source",
   "name": "R",
   "pygments_lexer": "r",
   "version": "3.5.1"
  }
 },
 "nbformat": 4,
 "nbformat_minor": 2
}
